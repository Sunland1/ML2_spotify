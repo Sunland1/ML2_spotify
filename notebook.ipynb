{
 "cells": [
  {
   "cell_type": "code",
   "execution_count": null,
   "metadata": {},
   "outputs": [],
   "source": []
  }
 ],
 "metadata": {
  "kernelspec": {
   "display_name": "Python 3.10.6 64-bit",
   "language": "python",
   "name": "python3"
  },
  "language_info": {
   "name": "python",
   "version": "3.10.6"
  },
  "orig_nbformat": 4,
  "vscode": {
   "interpreter": {
    "hash": "d85d720030dee5f2349c4ab3ce3114f782afc822af1d2427964e8e6b37494d7a"
   }
  }
 },
 "nbformat": 4,
 "nbformat_minor": 2
}

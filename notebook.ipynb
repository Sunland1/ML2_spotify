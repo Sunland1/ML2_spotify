{
 "cells": [
  {
   "cell_type": "markdown",
   "metadata": {},
   "source": [
    "# Spotify"
   ]
  },
  {
   "cell_type": "markdown",
   "metadata": {},
   "source": [
    "## Setup"
   ]
  },
  {
   "cell_type": "code",
   "execution_count": 1,
   "metadata": {},
   "outputs": [],
   "source": [
    "from pyspark.sql import SparkSession\n",
    "import pandas as ps\n",
    "from pyspark.sql import functions as F\n",
    "from pyspark.sql.functions import col,isnan, when, count\n",
    "from pyspark import SparkContext\n",
    "from pyspark.sql import SparkSession\n",
    "from pyspark.sql.types import IntegerType\n",
    "import pandas as pd"
   ]
  },
  {
   "cell_type": "code",
   "execution_count": 2,
   "metadata": {},
   "outputs": [],
   "source": [
    "from pyspark.ml import Pipeline\n",
    "from pyspark.ml.feature import StringIndexer\n",
    "from pyspark.ml.feature import VectorAssembler\n",
    "from pyspark.ml.feature import OneHotEncoder"
   ]
  },
  {
   "cell_type": "code",
   "execution_count": 3,
   "metadata": {},
   "outputs": [],
   "source": [
    "spark = SparkSession.builder.appName('abc').getOrCreate()"
   ]
  },
  {
   "cell_type": "code",
   "execution_count": 4,
   "metadata": {},
   "outputs": [
    {
     "name": "stdout",
     "output_type": "stream",
     "text": [
      "+-----+--------------------+-----------------+--------------------+----+----------------------+------+------------+-------------+--------+-------+-----------------+------------+-----------+----------+\n",
      "|Index|               Title|           Artist|           Top Genre|Year|Beats Per Minute (BPM)|Energy|Danceability|Loudness (dB)|Liveness|Valence|Length (Duration)|Acousticness|Speechiness|Popularity|\n",
      "+-----+--------------------+-----------------+--------------------+----+----------------------+------+------------+-------------+--------+-------+-----------------+------------+-----------+----------+\n",
      "|    1|             Sunrise|      Norah Jones|     adult standards|2004|                   157|    30|          53|          -14|      11|     68|              201|          94|          3|        71|\n",
      "|    2|         Black Night|      Deep Purple|          album rock|2000|                   135|    79|          50|          -11|      17|     81|              207|          17|          7|        39|\n",
      "|    3|      Clint Eastwood|         Gorillaz| alternative hip hop|2001|                   168|    69|          66|           -9|       7|     52|              341|           2|         17|        69|\n",
      "|    4|       The Pretender|     Foo Fighters|   alternative metal|2007|                   173|    96|          43|           -4|       3|     37|              269|           0|          4|        76|\n",
      "|    5|Waitin' On A Sunn...|Bruce Springsteen|        classic rock|2002|                   106|    82|          58|           -5|      10|     87|              256|           1|          3|        59|\n",
      "|    6|The Road Ahead (M...|     City To City|alternative pop rock|2004|                    99|    46|          54|           -9|      14|     14|              247|           0|          2|        45|\n",
      "|    7|   She Will Be Loved|         Maroon 5|                 pop|2002|                   102|    71|          71|           -6|      13|     54|              257|           6|          3|        74|\n",
      "|    8|  Knights of Cydonia|             Muse|         modern rock|2006|                   137|    96|          37|           -5|      12|     21|              366|           0|         14|        69|\n",
      "|    9|      Mr. Brightside|      The Killers|         modern rock|2004|                   148|    92|          36|           -4|      10|     23|              223|           0|          8|        77|\n",
      "|   10|          Without Me|           Eminem|     detroit hip hop|2002|                   112|    67|          91|           -3|      24|     66|              290|           0|          7|        82|\n",
      "|   11|      Love Me Tender|    Elvis Presley|     adult standards|2002|                   109|     5|          44|          -16|      11|     31|              162|          88|          4|        49|\n",
      "|   12|   Seven Nation Army|The White Stripes|    alternative rock|2003|                   124|    46|          74|           -8|      26|     32|              232|           1|          8|        74|\n",
      "|   13|       Als Het Golft|          De Dijk|         dutch indie|2000|                   102|    88|          54|           -6|      53|     59|              214|           2|          3|        34|\n",
      "|   14|      I'm going home|  Ten Years After|          album rock|2005|                   117|    93|          38|           -2|      81|     40|              639|          18|         10|        26|\n",
      "|   15|Fluorescent Adole...|   Arctic Monkeys|         garage rock|2007|                   112|    81|          65|           -5|      14|     82|              173|           0|          3|        66|\n",
      "|   16|          Zonder Jou|    Paul de Leeuw|       dutch cabaret|2006|                   133|    42|          42|          -10|      16|     25|              236|          84|          4|        48|\n",
      "|   17|      Speed of Sound|         Coldplay|      permanent wave|2005|                   123|    90|          52|           -7|       7|     36|              288|           0|          6|        69|\n",
      "|   18|           Uninvited|Alanis Morissette|    alternative rock|2005|                   127|    54|          38|           -5|       9|     19|              276|           2|          3|        57|\n",
      "|   19|               Music|       John Miles|      classic uk pop|2004|                    87|    31|          27|          -13|      63|     12|              352|           1|          3|        46|\n",
      "|   20|      Cry Me a River|Justin Timberlake|           dance pop|2002|                    74|    65|          62|           -7|      10|     56|              288|          57|         18|        74|\n",
      "+-----+--------------------+-----------------+--------------------+----+----------------------+------+------------+-------------+--------+-------+-----------------+------------+-----------+----------+\n",
      "only showing top 20 rows\n",
      "\n"
     ]
    }
   ],
   "source": [
    "sdf = spark.read.format(\"csv\").option(\"header\", \"true\").option(\n",
    "    \"inferSchema\", \"true\").load(\"./data/Spotify-2000.csv\")\n",
    "sdf.show()"
   ]
  },
  {
   "cell_type": "code",
   "execution_count": 5,
   "metadata": {},
   "outputs": [],
   "source": [
    "sdf = sdf.drop(\"Title\").drop(\"Year\").drop(\"Year\").drop(\"Index\")\n",
    "sdf = sdf.withColumn('Length (Duration)',col('Length (Duration)').cast(IntegerType()))"
   ]
  },
  {
   "cell_type": "code",
   "execution_count": 6,
   "metadata": {},
   "outputs": [
    {
     "data": {
      "text/plain": [
       "DataFrame[Artist: string, Top Genre: string, Beats Per Minute (BPM): int, Energy: int, Danceability: int, Loudness (dB): int, Liveness: int, Valence: int, Length (Duration): int, Acousticness: int, Speechiness: int, Popularity: int]"
      ]
     },
     "execution_count": 6,
     "metadata": {},
     "output_type": "execute_result"
    }
   ],
   "source": [
    "sdf.cache()"
   ]
  },
  {
   "cell_type": "code",
   "execution_count": 7,
   "metadata": {},
   "outputs": [
    {
     "data": {
      "text/plain": [
       "True"
      ]
     },
     "execution_count": 7,
     "metadata": {},
     "output_type": "execute_result"
    }
   ],
   "source": [
    "sdf.is_cached"
   ]
  },
  {
   "cell_type": "code",
   "execution_count": 8,
   "metadata": {},
   "outputs": [
    {
     "name": "stdout",
     "output_type": "stream",
     "text": [
      "root\n",
      " |-- Artist: string (nullable = true)\n",
      " |-- Top Genre: string (nullable = true)\n",
      " |-- Beats Per Minute (BPM): integer (nullable = true)\n",
      " |-- Energy: integer (nullable = true)\n",
      " |-- Danceability: integer (nullable = true)\n",
      " |-- Loudness (dB): integer (nullable = true)\n",
      " |-- Liveness: integer (nullable = true)\n",
      " |-- Valence: integer (nullable = true)\n",
      " |-- Length (Duration): integer (nullable = true)\n",
      " |-- Acousticness: integer (nullable = true)\n",
      " |-- Speechiness: integer (nullable = true)\n",
      " |-- Popularity: integer (nullable = true)\n",
      "\n"
     ]
    }
   ],
   "source": [
    "sdf.printSchema()"
   ]
  },
  {
   "cell_type": "markdown",
   "metadata": {
    "tags": []
   },
   "source": [
    "## Data exploration"
   ]
  },
  {
   "cell_type": "code",
   "execution_count": 9,
   "metadata": {},
   "outputs": [],
   "source": [
    "sdf = sdf.na.drop()"
   ]
  },
  {
   "cell_type": "code",
   "execution_count": 10,
   "metadata": {},
   "outputs": [
    {
     "name": "stdout",
     "output_type": "stream",
     "text": [
      "+------+---------+----------------------+------+------------+-------------+--------+-------+-----------------+------------+-----------+----------+\n",
      "|Artist|Top Genre|Beats Per Minute (BPM)|Energy|Danceability|Loudness (dB)|Liveness|Valence|Length (Duration)|Acousticness|Speechiness|Popularity|\n",
      "+------+---------+----------------------+------+------------+-------------+--------+-------+-----------------+------------+-----------+----------+\n",
      "|     0|        0|                     0|     0|           0|            0|       0|      0|                0|           0|          0|         0|\n",
      "+------+---------+----------------------+------+------------+-------------+--------+-------+-----------------+------------+-----------+----------+\n",
      "\n"
     ]
    }
   ],
   "source": [
    "sdf.select([count(when(isnan(c) | col(c).isNull(), c)).alias(c) for c in sdf.columns]).show()"
   ]
  },
  {
   "cell_type": "markdown",
   "metadata": {},
   "source": [
    "## Describe"
   ]
  },
  {
   "cell_type": "code",
   "execution_count": 11,
   "metadata": {},
   "outputs": [
    {
     "name": "stdout",
     "output_type": "stream",
     "text": [
      "+----------------------+------+------------+-------------+--------+-------+-----------------+------------+-----------+----------+\n",
      "|Beats Per Minute (BPM)|Energy|Danceability|Loudness (dB)|Liveness|Valence|Length (Duration)|Acousticness|Speechiness|Popularity|\n",
      "+----------------------+------+------------+-------------+--------+-------+-----------------+------------+-----------+----------+\n",
      "|                   157|    30|          53|          -14|      11|     68|              201|          94|          3|        71|\n",
      "|                   135|    79|          50|          -11|      17|     81|              207|          17|          7|        39|\n",
      "|                   168|    69|          66|           -9|       7|     52|              341|           2|         17|        69|\n",
      "|                   173|    96|          43|           -4|       3|     37|              269|           0|          4|        76|\n",
      "|                   106|    82|          58|           -5|      10|     87|              256|           1|          3|        59|\n",
      "|                    99|    46|          54|           -9|      14|     14|              247|           0|          2|        45|\n",
      "|                   102|    71|          71|           -6|      13|     54|              257|           6|          3|        74|\n",
      "|                   137|    96|          37|           -5|      12|     21|              366|           0|         14|        69|\n",
      "|                   148|    92|          36|           -4|      10|     23|              223|           0|          8|        77|\n",
      "|                   112|    67|          91|           -3|      24|     66|              290|           0|          7|        82|\n",
      "|                   109|     5|          44|          -16|      11|     31|              162|          88|          4|        49|\n",
      "|                   124|    46|          74|           -8|      26|     32|              232|           1|          8|        74|\n",
      "|                   102|    88|          54|           -6|      53|     59|              214|           2|          3|        34|\n",
      "|                   117|    93|          38|           -2|      81|     40|              639|          18|         10|        26|\n",
      "|                   112|    81|          65|           -5|      14|     82|              173|           0|          3|        66|\n",
      "|                   133|    42|          42|          -10|      16|     25|              236|          84|          4|        48|\n",
      "|                   123|    90|          52|           -7|       7|     36|              288|           0|          6|        69|\n",
      "|                   127|    54|          38|           -5|       9|     19|              276|           2|          3|        57|\n",
      "|                    87|    31|          27|          -13|      63|     12|              352|           1|          3|        46|\n",
      "|                    74|    65|          62|           -7|      10|     56|              288|          57|         18|        74|\n",
      "+----------------------+------+------------+-------------+--------+-------+-----------------+------------+-----------+----------+\n",
      "only showing top 20 rows\n",
      "\n"
     ]
    }
   ],
   "source": [
    "sdf.describe().toPandas()  # # par défaut ttes les col \n",
    "sdf.dtypes\n",
    "col_num = sdf.select([col[0] for col in sdf.dtypes if col[1] != 'string'])\n",
    "col_num.show()\n",
    "\n",
    "feature_numeric = ['Beats Per Minute (BPM)', 'Energy', 'Danceability',  'Loudness (dB)', 'Liveness', 'Valence', 'Length (Duration)', 'Acousticness', 'Speechiness', 'Popularity']"
   ]
  },
  {
   "cell_type": "code",
   "execution_count": 12,
   "metadata": {},
   "outputs": [
    {
     "name": "stdout",
     "output_type": "stream",
     "text": [
      "+-----------------+--------------------+\n",
      "|           Artist|           Top Genre|\n",
      "+-----------------+--------------------+\n",
      "|      Norah Jones|     adult standards|\n",
      "|      Deep Purple|          album rock|\n",
      "|         Gorillaz| alternative hip hop|\n",
      "|     Foo Fighters|   alternative metal|\n",
      "|Bruce Springsteen|        classic rock|\n",
      "|     City To City|alternative pop rock|\n",
      "|         Maroon 5|                 pop|\n",
      "|             Muse|         modern rock|\n",
      "|      The Killers|         modern rock|\n",
      "|           Eminem|     detroit hip hop|\n",
      "|    Elvis Presley|     adult standards|\n",
      "|The White Stripes|    alternative rock|\n",
      "|          De Dijk|         dutch indie|\n",
      "|  Ten Years After|          album rock|\n",
      "|   Arctic Monkeys|         garage rock|\n",
      "|    Paul de Leeuw|       dutch cabaret|\n",
      "|         Coldplay|      permanent wave|\n",
      "|Alanis Morissette|    alternative rock|\n",
      "|       John Miles|      classic uk pop|\n",
      "|Justin Timberlake|           dance pop|\n",
      "+-----------------+--------------------+\n",
      "only showing top 20 rows\n",
      "\n"
     ]
    }
   ],
   "source": [
    "sdf.describe().toPandas()  # # par défaut ttes les col \n",
    "sdf.dtypes\n",
    "col_cat = sdf.select([col[0] for col in sdf.dtypes if col[1] == 'string'])\n",
    "col_cat.show()"
   ]
  },
  {
   "cell_type": "code",
   "execution_count": 13,
   "metadata": {},
   "outputs": [],
   "source": [
    "feature_cat = [\"Artist\", \"Top Genre\"]\n",
    "feature_cat_indexed = [col+'_indexed' for col in feature_cat]"
   ]
  },
  {
   "cell_type": "code",
   "execution_count": 14,
   "metadata": {},
   "outputs": [],
   "source": [
    "labelCol = 'Popularity'"
   ]
  },
  {
   "cell_type": "code",
   "execution_count": 15,
   "metadata": {},
   "outputs": [],
   "source": [
    "feature_cat_encoded = [col +'_encoded' for col in feature_cat_indexed]"
   ]
  },
  {
   "cell_type": "code",
   "execution_count": null,
   "metadata": {},
   "outputs": [],
   "source": []
  },
  {
   "cell_type": "code",
   "execution_count": null,
   "metadata": {},
   "outputs": [],
   "source": []
  },
  {
   "cell_type": "markdown",
   "metadata": {},
   "source": [
    "## StringIndexer"
   ]
  },
  {
   "cell_type": "code",
   "execution_count": 16,
   "metadata": {},
   "outputs": [],
   "source": [
    "indexer_feature = StringIndexer(inputCols=feature_cat, handleInvalid='skip', outputCols=feature_cat_indexed)\n",
    "indexer_label = StringIndexer(inputCol=labelCol, handleInvalid='skip', outputCol=labelCol+'_indexed')\n",
    "#sdf = indexer_feature.fit(sdf).transform(sdf)"
   ]
  },
  {
   "cell_type": "markdown",
   "metadata": {},
   "source": [
    "## OneHotEncoder"
   ]
  },
  {
   "cell_type": "code",
   "execution_count": 17,
   "metadata": {},
   "outputs": [
    {
     "name": "stdout",
     "output_type": "stream",
     "text": [
      "+-----------------+--------------------+----------------------+------+------------+-------------+--------+-------+-----------------+------------+-----------+----------+\n",
      "|           Artist|           Top Genre|Beats Per Minute (BPM)|Energy|Danceability|Loudness (dB)|Liveness|Valence|Length (Duration)|Acousticness|Speechiness|Popularity|\n",
      "+-----------------+--------------------+----------------------+------+------------+-------------+--------+-------+-----------------+------------+-----------+----------+\n",
      "|      Norah Jones|     adult standards|                   157|    30|          53|          -14|      11|     68|              201|          94|          3|        71|\n",
      "|      Deep Purple|          album rock|                   135|    79|          50|          -11|      17|     81|              207|          17|          7|        39|\n",
      "|         Gorillaz| alternative hip hop|                   168|    69|          66|           -9|       7|     52|              341|           2|         17|        69|\n",
      "|     Foo Fighters|   alternative metal|                   173|    96|          43|           -4|       3|     37|              269|           0|          4|        76|\n",
      "|Bruce Springsteen|        classic rock|                   106|    82|          58|           -5|      10|     87|              256|           1|          3|        59|\n",
      "|     City To City|alternative pop rock|                    99|    46|          54|           -9|      14|     14|              247|           0|          2|        45|\n",
      "|         Maroon 5|                 pop|                   102|    71|          71|           -6|      13|     54|              257|           6|          3|        74|\n",
      "|             Muse|         modern rock|                   137|    96|          37|           -5|      12|     21|              366|           0|         14|        69|\n",
      "|      The Killers|         modern rock|                   148|    92|          36|           -4|      10|     23|              223|           0|          8|        77|\n",
      "|           Eminem|     detroit hip hop|                   112|    67|          91|           -3|      24|     66|              290|           0|          7|        82|\n",
      "|    Elvis Presley|     adult standards|                   109|     5|          44|          -16|      11|     31|              162|          88|          4|        49|\n",
      "|The White Stripes|    alternative rock|                   124|    46|          74|           -8|      26|     32|              232|           1|          8|        74|\n",
      "|          De Dijk|         dutch indie|                   102|    88|          54|           -6|      53|     59|              214|           2|          3|        34|\n",
      "|  Ten Years After|          album rock|                   117|    93|          38|           -2|      81|     40|              639|          18|         10|        26|\n",
      "|   Arctic Monkeys|         garage rock|                   112|    81|          65|           -5|      14|     82|              173|           0|          3|        66|\n",
      "|    Paul de Leeuw|       dutch cabaret|                   133|    42|          42|          -10|      16|     25|              236|          84|          4|        48|\n",
      "|         Coldplay|      permanent wave|                   123|    90|          52|           -7|       7|     36|              288|           0|          6|        69|\n",
      "|Alanis Morissette|    alternative rock|                   127|    54|          38|           -5|       9|     19|              276|           2|          3|        57|\n",
      "|       John Miles|      classic uk pop|                    87|    31|          27|          -13|      63|     12|              352|           1|          3|        46|\n",
      "|Justin Timberlake|           dance pop|                    74|    65|          62|           -7|      10|     56|              288|          57|         18|        74|\n",
      "+-----------------+--------------------+----------------------+------+------------+-------------+--------+-------+-----------------+------------+-----------+----------+\n",
      "only showing top 20 rows\n",
      "\n"
     ]
    }
   ],
   "source": [
    "sdf.show()"
   ]
  },
  {
   "cell_type": "code",
   "execution_count": 18,
   "metadata": {},
   "outputs": [],
   "source": [
    "encoders = OneHotEncoder(dropLast=False, inputCols=feature_cat_indexed, outputCols=feature_cat_encoded)  # handleInvalid='skip',  \n",
    "#sdf = encoders.fit(sdf).transform(sdf)\n",
    "#sdf.select(feature_cat_indexed+feature_cat_encoded).show(n=2, truncate=False, vertical=True)"
   ]
  },
  {
   "cell_type": "markdown",
   "metadata": {},
   "source": [
    "## VectorAssembler"
   ]
  },
  {
   "cell_type": "code",
   "execution_count": 19,
   "metadata": {},
   "outputs": [],
   "source": [
    "# Vectorizing encoded values\n",
    "# assembler = VectorAssembler(inputCols=[encoder.getOutputCol() for encoder in encoders],outputCol=\"rawFeatures\")\n",
    "\n",
    "assembler = VectorAssembler(inputCols=feature_cat_encoded+feature_numeric, outputCol='features')\n",
    "\n",
    "#assembler.transform(sdf).select(feature_cat+feature_numeric+feature_cat_encoded+['features']).show(n=2, truncate=False, vertical=True)"
   ]
  },
  {
   "cell_type": "markdown",
   "metadata": {},
   "source": [
    "### Pipeline"
   ]
  },
  {
   "cell_type": "code",
   "execution_count": 20,
   "metadata": {},
   "outputs": [],
   "source": [
    "#Pipeline(stages= [indexer_feature]+[indexer_label]+[encoders]+[assembler]).fit(sdf).transform(sdf).show(n=1, truncate=False, vertical=True)"
   ]
  },
  {
   "cell_type": "code",
   "execution_count": 21,
   "metadata": {},
   "outputs": [
    {
     "name": "stdout",
     "output_type": "stream",
     "text": [
      "root\n",
      " |-- Artist: string (nullable = true)\n",
      " |-- Top Genre: string (nullable = true)\n",
      " |-- Beats Per Minute (BPM): integer (nullable = true)\n",
      " |-- Energy: integer (nullable = true)\n",
      " |-- Danceability: integer (nullable = true)\n",
      " |-- Loudness (dB): integer (nullable = true)\n",
      " |-- Liveness: integer (nullable = true)\n",
      " |-- Valence: integer (nullable = true)\n",
      " |-- Length (Duration): integer (nullable = true)\n",
      " |-- Acousticness: integer (nullable = true)\n",
      " |-- Speechiness: integer (nullable = true)\n",
      " |-- Popularity: integer (nullable = true)\n",
      "\n"
     ]
    }
   ],
   "source": [
    "sdf.printSchema()"
   ]
  },
  {
   "cell_type": "code",
   "execution_count": 22,
   "metadata": {},
   "outputs": [
    {
     "name": "stdout",
     "output_type": "stream",
     "text": [
      "-RECORD 0----------------------------\n",
      " Artist                 | 10cc       \n",
      " Top Genre              | album rock \n",
      " Beats Per Minute (BPM) | 98         \n",
      " Energy                 | 50         \n",
      " Danceability           | 52         \n",
      " Loudness (dB)          | -11        \n",
      " Liveness               | 11         \n",
      " Valence                | 66         \n",
      " Length (Duration)      | 242        \n",
      " Acousticness           | 16         \n",
      " Speechiness            | 3          \n",
      " Popularity             | 46         \n",
      "only showing top 1 row\n",
      "\n",
      "-RECORD 0------------------------\n",
      " Artist                 | 2Pac   \n",
      " Top Genre              | g funk \n",
      " Beats Per Minute (BPM) | 111    \n",
      " Energy                 | 66     \n",
      " Danceability           | 87     \n",
      " Loudness (dB)          | -7     \n",
      " Liveness               | 14     \n",
      " Valence                | 32     \n",
      " Length (Duration)      | 269    \n",
      " Acousticness           | 4      \n",
      " Speechiness            | 8      \n",
      " Popularity             | 72     \n",
      "only showing top 1 row\n",
      "\n"
     ]
    }
   ],
   "source": [
    "train, test = sdf.randomSplit([0.7, 0.3],seed = 11)\n",
    "train.show(n=1, truncate=False, vertical=True)\n",
    "test.show(n=1, truncate=False, vertical=True)"
   ]
  },
  {
   "cell_type": "code",
   "execution_count": 24,
   "metadata": {},
   "outputs": [
    {
     "name": "stdout",
     "output_type": "stream",
     "text": [
      "+-------------------+-----------------+----------------------+------+------------+-------------+--------+-------+-----------------+------------+-----------+----------+\n",
      "|             Artist|        Top Genre|Beats Per Minute (BPM)|Energy|Danceability|Loudness (dB)|Liveness|Valence|Length (Duration)|Acousticness|Speechiness|Popularity|\n",
      "+-------------------+-----------------+----------------------+------+------------+-------------+--------+-------+-----------------+------------+-----------+----------+\n",
      "|               10cc|       album rock|                    98|    50|          52|          -11|      11|     66|              242|          16|          3|        46|\n",
      "|               10cc|       album rock|                   105|    38|          84|          -13|      20|     89|              268|          54|          6|        67|\n",
      "|               10cc|       album rock|                   134|    52|          40|          -16|      28|     16|              367|          69|          6|        70|\n",
      "|               2Pac|           g funk|                    84|    54|          77|           -7|      13|     32|              280|          37|         10|        72|\n",
      "|               2Pac|           g funk|                    92|    88|          66|           -3|      69|     77|              348|           3|          9|        41|\n",
      "|       3 Doors Down|alternative metal|                   144|    55|          54|           -7|      13|     23|              239|           5|          2|        75|\n",
      "|                3JS|        dutch pop|                   144|    40|          56|           -8|      11|     46|              209|          66|          3|        36|\n",
      "|      4 Non Blondes|     new wave pop|                   134|    56|          56|          -10|      11|     45|              296|          16|          3|        78|\n",
      "|5 Seconds of Summer|         boy band|                   120|    85|          60|           -5|      12|     15|              203|           2|         46|        84|\n",
      "|               ABBA|          europop|                   101|    88|          54|           -7|      76|     75|              231|          38|          4|        72|\n",
      "|               ABBA|          europop|                   107|    74|          55|           -7|      24|     90|              244|           4|          3|        52|\n",
      "|               ABBA|          europop|                   108|    39|          80|          -15|       5|     74|              349|           5|          4|        51|\n",
      "|               ABBA|          europop|                   111|    53|          35|           -9|       8|     47|              256|          58|          3|        56|\n",
      "|               ABBA|          europop|                   120|    49|          75|          -10|      22|     53|              293|           2|          4|        64|\n",
      "|               ABBA|          europop|                   121|    69|          78|           -7|      11|     70|              187|          52|          4|        44|\n",
      "|               ABBA|          europop|                   125|    70|          42|           -6|      33|     56|              204|          26|          3|        49|\n",
      "|               ABBA|          europop|                   127|    78|          71|           -7|      15|     91|              309|          12|          4|        53|\n",
      "|               ABBA|          europop|                   127|    79|          46|           -7|       8|     52|              295|          55|          4|        59|\n",
      "|               ABBA|          europop|                   133|    72|          68|           -8|      37|     77|              274|          11|          3|        48|\n",
      "|               ABBA|          europop|                   138|    75|          75|           -7|      44|     83|              215|          29|          3|        63|\n",
      "+-------------------+-----------------+----------------------+------+------------+-------------+--------+-------+-----------------+------------+-----------+----------+\n",
      "only showing top 20 rows\n",
      "\n",
      "+------------------+------------------+--------------------+\n",
      "|        prediction|Popularity_indexed|            features|\n",
      "+------------------+------------------+--------------------+\n",
      "|13.920854949633899|              14.0|(716,[143,647,706...|\n",
      "| 14.13081522625314|              19.0|(716,[251,589,706...|\n",
      "|23.771861536198813|              37.0|(716,[9,601,706,7...|\n",
      "| 16.32704494009245|               7.0|(716,[9,601,706,7...|\n",
      "| 18.16242377097194|              26.0|(716,[9,601,706,7...|\n",
      "| 26.11867821992373|              29.0|(716,[9,601,706,7...|\n",
      "| 22.84174235793948|               9.0|(716,[9,601,706,7...|\n",
      "|14.513098108058713|               4.0|(716,[9,601,706,7...|\n",
      "|16.244133014482216|              24.0|(716,[9,601,706,7...|\n",
      "|22.574488696565183|              32.0|(716,[9,601,706,7...|\n",
      "|24.624558232244258|              39.0|(716,[9,601,706,7...|\n",
      "| 23.80905594915864|              28.0|(716,[9,601,706,7...|\n",
      "|19.783046863323435|              60.0|(716,[94,583,706,...|\n",
      "|  30.1701365778393|               8.0|(716,[94,583,706,...|\n",
      "|20.779371833446824|              60.0|(716,[94,583,706,...|\n",
      "|  32.6726170962838|              41.0|(716,[30,591,706,...|\n",
      "|14.013441158811077|               4.0|(716,[16,600,706,...|\n",
      "|14.841647349125445|              21.0|(716,[16,600,706,...|\n",
      "| 10.55930278254582|              12.0|(716,[16,600,706,...|\n",
      "|  7.91894932441668|               5.0|(716,[16,600,706,...|\n",
      "+------------------+------------------+--------------------+\n",
      "only showing top 20 rows\n",
      "\n",
      "-RECORD 0----------------------------------------------------------------------------------------------------------------------------------------\n",
      " Artist                    | 2Pac                                                                                                                \n",
      " Top Genre                 | g funk                                                                                                              \n",
      " Beats Per Minute (BPM)    | 111                                                                                                                 \n",
      " Energy                    | 66                                                                                                                  \n",
      " Danceability              | 87                                                                                                                  \n",
      " Loudness (dB)             | -7                                                                                                                  \n",
      " Liveness                  | 14                                                                                                                  \n",
      " Valence                   | 32                                                                                                                  \n",
      " Length (Duration)         | 269                                                                                                                 \n",
      " Acousticness              | 4                                                                                                                   \n",
      " Speechiness               | 8                                                                                                                   \n",
      " Popularity                | 72                                                                                                                  \n",
      " Artist_indexed            | 143.0                                                                                                               \n",
      " Top Genre_indexed         | 64.0                                                                                                                \n",
      " Popularity_indexed        | 14.0                                                                                                                \n",
      " Artist_indexed_encoded    | (583,[143],[1.0])                                                                                                   \n",
      " Top Genre_indexed_encoded | (123,[64],[1.0])                                                                                                    \n",
      " features                  | (716,[143,647,706,707,708,709,710,711,712,713,714,715],[1.0,1.0,111.0,66.0,87.0,-7.0,14.0,32.0,269.0,4.0,8.0,72.0]) \n",
      " prediction                | 13.920854949633899                                                                                                  \n",
      "only showing top 1 row\n",
      "\n"
     ]
    }
   ],
   "source": [
    "from pyspark.ml.classification import LogisticRegression\n",
    "from pyspark.ml.regression import LinearRegression\n",
    "\n",
    "lr = LinearRegression(labelCol='Popularity_indexed', featuresCol='features')\n",
    "\n",
    "train, test = sdf.randomSplit([0.7, 0.3], seed = 11)\n",
    "\n",
    "train.cache()\n",
    "test.cache()\n",
    "train.show()\n",
    "\n",
    "model = Pipeline(stages= [indexer_feature]+[indexer_label]+[encoders]+[assembler] + [lr]).fit(train)\n",
    "pred_lr = model.transform(test)\n",
    "pred_lr.select('prediction', 'Popularity_indexed', 'features').show()\n",
    "pred_lr.show(n=1, vertical=True, truncate=False)"
   ]
  }
 ],
 "metadata": {
  "kernelspec": {
   "display_name": "Python 3 (ipykernel)",
   "language": "python",
   "name": "python3"
  },
  "language_info": {
   "codemirror_mode": {
    "name": "ipython",
    "version": 3
   },
   "file_extension": ".py",
   "mimetype": "text/x-python",
   "name": "python",
   "nbconvert_exporter": "python",
   "pygments_lexer": "ipython3",
   "version": "3.10.6"
  },
  "vscode": {
   "interpreter": {
    "hash": "d85d720030dee5f2349c4ab3ce3114f782afc822af1d2427964e8e6b37494d7a"
   }
  }
 },
 "nbformat": 4,
 "nbformat_minor": 4
}

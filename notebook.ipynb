{
 "cells": [
  {
   "cell_type": "markdown",
   "metadata": {},
   "source": [
    "# Spotify"
   ]
  },
  {
   "cell_type": "markdown",
   "metadata": {},
   "source": [
    "## Setup"
   ]
  },
  {
   "cell_type": "code",
   "execution_count": 37,
   "metadata": {},
   "outputs": [],
   "source": [
    "from pyspark.sql import SparkSession\n",
    "import pandas as ps\n",
    "from pyspark.sql import functions as F\n",
    "from pyspark.sql.functions import col,isnan, when, count\n",
    "from pyspark import SparkContext\n",
    "from pyspark.sql import SparkSession\n",
    "import pandas as pd"
   ]
  },
  {
   "cell_type": "code",
   "execution_count": 41,
   "metadata": {},
   "outputs": [],
   "source": [
    "from pyspark.ml import Pipeline\n",
    "from pyspark.ml.feature import StringIndexer\n",
    "from pyspark.ml.feature import VectorAssembler\n",
    "from pyspark.ml.feature import OneHotEncoder"
   ]
  },
  {
   "cell_type": "code",
   "execution_count": 5,
   "metadata": {},
   "outputs": [],
   "source": [
    "spark = SparkSession.builder.appName('abc').getOrCreate()"
   ]
  },
  {
   "cell_type": "code",
   "execution_count": 43,
   "metadata": {},
   "outputs": [
    {
     "name": "stdout",
     "output_type": "stream",
     "text": [
      "+-----+--------------------+-----------------+--------------------+----+----------------------+------+------------+-------------+--------+-------+-----------------+------------+-----------+----------+\n",
      "|Index|               Title|           Artist|           Top Genre|Year|Beats Per Minute (BPM)|Energy|Danceability|Loudness (dB)|Liveness|Valence|Length (Duration)|Acousticness|Speechiness|Popularity|\n",
      "+-----+--------------------+-----------------+--------------------+----+----------------------+------+------------+-------------+--------+-------+-----------------+------------+-----------+----------+\n",
      "|    1|             Sunrise|      Norah Jones|     adult standards|2004|                   157|    30|          53|          -14|      11|     68|              201|          94|          3|        71|\n",
      "|    2|         Black Night|      Deep Purple|          album rock|2000|                   135|    79|          50|          -11|      17|     81|              207|          17|          7|        39|\n",
      "|    3|      Clint Eastwood|         Gorillaz| alternative hip hop|2001|                   168|    69|          66|           -9|       7|     52|              341|           2|         17|        69|\n",
      "|    4|       The Pretender|     Foo Fighters|   alternative metal|2007|                   173|    96|          43|           -4|       3|     37|              269|           0|          4|        76|\n",
      "|    5|Waitin' On A Sunn...|Bruce Springsteen|        classic rock|2002|                   106|    82|          58|           -5|      10|     87|              256|           1|          3|        59|\n",
      "|    6|The Road Ahead (M...|     City To City|alternative pop rock|2004|                    99|    46|          54|           -9|      14|     14|              247|           0|          2|        45|\n",
      "|    7|   She Will Be Loved|         Maroon 5|                 pop|2002|                   102|    71|          71|           -6|      13|     54|              257|           6|          3|        74|\n",
      "|    8|  Knights of Cydonia|             Muse|         modern rock|2006|                   137|    96|          37|           -5|      12|     21|              366|           0|         14|        69|\n",
      "|    9|      Mr. Brightside|      The Killers|         modern rock|2004|                   148|    92|          36|           -4|      10|     23|              223|           0|          8|        77|\n",
      "|   10|          Without Me|           Eminem|     detroit hip hop|2002|                   112|    67|          91|           -3|      24|     66|              290|           0|          7|        82|\n",
      "|   11|      Love Me Tender|    Elvis Presley|     adult standards|2002|                   109|     5|          44|          -16|      11|     31|              162|          88|          4|        49|\n",
      "|   12|   Seven Nation Army|The White Stripes|    alternative rock|2003|                   124|    46|          74|           -8|      26|     32|              232|           1|          8|        74|\n",
      "|   13|       Als Het Golft|          De Dijk|         dutch indie|2000|                   102|    88|          54|           -6|      53|     59|              214|           2|          3|        34|\n",
      "|   14|      I'm going home|  Ten Years After|          album rock|2005|                   117|    93|          38|           -2|      81|     40|              639|          18|         10|        26|\n",
      "|   15|Fluorescent Adole...|   Arctic Monkeys|         garage rock|2007|                   112|    81|          65|           -5|      14|     82|              173|           0|          3|        66|\n",
      "|   16|          Zonder Jou|    Paul de Leeuw|       dutch cabaret|2006|                   133|    42|          42|          -10|      16|     25|              236|          84|          4|        48|\n",
      "|   17|      Speed of Sound|         Coldplay|      permanent wave|2005|                   123|    90|          52|           -7|       7|     36|              288|           0|          6|        69|\n",
      "|   18|           Uninvited|Alanis Morissette|    alternative rock|2005|                   127|    54|          38|           -5|       9|     19|              276|           2|          3|        57|\n",
      "|   19|               Music|       John Miles|      classic uk pop|2004|                    87|    31|          27|          -13|      63|     12|              352|           1|          3|        46|\n",
      "|   20|      Cry Me a River|Justin Timberlake|           dance pop|2002|                    74|    65|          62|           -7|      10|     56|              288|          57|         18|        74|\n",
      "+-----+--------------------+-----------------+--------------------+----+----------------------+------+------------+-------------+--------+-------+-----------------+------------+-----------+----------+\n",
      "only showing top 20 rows\n",
      "\n"
     ]
    }
   ],
   "source": [
    "sdf = spark.read.format(\"csv\").option(\"header\", \"true\").option(\n",
    "    \"inferSchema\", \"true\").load(\"./data/Spotify-2000.csv\")\n",
    "sdf.show()"
   ]
  },
  {
   "cell_type": "code",
   "execution_count": 46,
   "metadata": {},
   "outputs": [
    {
     "data": {
      "text/plain": [
       "DataFrame[Index: int, Title: string, Artist: string, Top Genre: string, Year: int, Beats Per Minute (BPM): int, Energy: int, Danceability: int, Loudness (dB): int, Liveness: int, Valence: int, Length (Duration): string, Acousticness: int, Speechiness: int, Popularity: int]"
      ]
     },
     "execution_count": 46,
     "metadata": {},
     "output_type": "execute_result"
    }
   ],
   "source": [
    "sdf.cache()"
   ]
  },
  {
   "cell_type": "code",
   "execution_count": 47,
   "metadata": {},
   "outputs": [
    {
     "data": {
      "text/plain": [
       "True"
      ]
     },
     "execution_count": 47,
     "metadata": {},
     "output_type": "execute_result"
    }
   ],
   "source": [
    "sdf.is_cached"
   ]
  },
  {
   "cell_type": "code",
   "execution_count": 48,
   "metadata": {},
   "outputs": [
    {
     "name": "stdout",
     "output_type": "stream",
     "text": [
      "root\n",
      " |-- Index: integer (nullable = true)\n",
      " |-- Title: string (nullable = true)\n",
      " |-- Artist: string (nullable = true)\n",
      " |-- Top Genre: string (nullable = true)\n",
      " |-- Year: integer (nullable = true)\n",
      " |-- Beats Per Minute (BPM): integer (nullable = true)\n",
      " |-- Energy: integer (nullable = true)\n",
      " |-- Danceability: integer (nullable = true)\n",
      " |-- Loudness (dB): integer (nullable = true)\n",
      " |-- Liveness: integer (nullable = true)\n",
      " |-- Valence: integer (nullable = true)\n",
      " |-- Length (Duration): string (nullable = true)\n",
      " |-- Acousticness: integer (nullable = true)\n",
      " |-- Speechiness: integer (nullable = true)\n",
      " |-- Popularity: integer (nullable = true)\n",
      "\n"
     ]
    }
   ],
   "source": [
    "sdf.printSchema()"
   ]
  },
  {
   "cell_type": "markdown",
   "metadata": {
    "tags": []
   },
   "source": [
    "## Data exploration"
   ]
  },
  {
   "cell_type": "code",
   "execution_count": 30,
   "metadata": {},
   "outputs": [
    {
     "name": "stdout",
     "output_type": "stream",
     "text": [
      "+-----+-----+------+---------+----+----------------------+------+------------+-------------+--------+-------+-----------------+------------+-----------+----------+\n",
      "|Index|Title|Artist|Top Genre|Year|Beats Per Minute (BPM)|Energy|Danceability|Loudness (dB)|Liveness|Valence|Length (Duration)|Acousticness|Speechiness|Popularity|\n",
      "+-----+-----+------+---------+----+----------------------+------+------------+-------------+--------+-------+-----------------+------------+-----------+----------+\n",
      "|    0|    0|     0|        0|   0|                     0|     0|           0|            0|       0|      0|                0|           0|          0|         0|\n",
      "+-----+-----+------+---------+----+----------------------+------+------------+-------------+--------+-------+-----------------+------------+-----------+----------+\n",
      "\n"
     ]
    }
   ],
   "source": [
    "sdf.select([count(when(isnan(c) | col(c).isNull(), c)).alias(c) for c in df.columns]).show()"
   ]
  },
  {
   "cell_type": "markdown",
   "metadata": {},
   "source": [
    "## Describe"
   ]
  },
  {
   "cell_type": "code",
   "execution_count": 56,
   "metadata": {},
   "outputs": [
    {
     "name": "stdout",
     "output_type": "stream",
     "text": [
      "+-----+----+----------------------+------+------------+-------------+--------+-------+------------+-----------+----------+\n",
      "|Index|Year|Beats Per Minute (BPM)|Energy|Danceability|Loudness (dB)|Liveness|Valence|Acousticness|Speechiness|Popularity|\n",
      "+-----+----+----------------------+------+------------+-------------+--------+-------+------------+-----------+----------+\n",
      "|    1|2004|                   157|    30|          53|          -14|      11|     68|          94|          3|        71|\n",
      "|    2|2000|                   135|    79|          50|          -11|      17|     81|          17|          7|        39|\n",
      "|    3|2001|                   168|    69|          66|           -9|       7|     52|           2|         17|        69|\n",
      "|    4|2007|                   173|    96|          43|           -4|       3|     37|           0|          4|        76|\n",
      "|    5|2002|                   106|    82|          58|           -5|      10|     87|           1|          3|        59|\n",
      "|    6|2004|                    99|    46|          54|           -9|      14|     14|           0|          2|        45|\n",
      "|    7|2002|                   102|    71|          71|           -6|      13|     54|           6|          3|        74|\n",
      "|    8|2006|                   137|    96|          37|           -5|      12|     21|           0|         14|        69|\n",
      "|    9|2004|                   148|    92|          36|           -4|      10|     23|           0|          8|        77|\n",
      "|   10|2002|                   112|    67|          91|           -3|      24|     66|           0|          7|        82|\n",
      "|   11|2002|                   109|     5|          44|          -16|      11|     31|          88|          4|        49|\n",
      "|   12|2003|                   124|    46|          74|           -8|      26|     32|           1|          8|        74|\n",
      "|   13|2000|                   102|    88|          54|           -6|      53|     59|           2|          3|        34|\n",
      "|   14|2005|                   117|    93|          38|           -2|      81|     40|          18|         10|        26|\n",
      "|   15|2007|                   112|    81|          65|           -5|      14|     82|           0|          3|        66|\n",
      "|   16|2006|                   133|    42|          42|          -10|      16|     25|          84|          4|        48|\n",
      "|   17|2005|                   123|    90|          52|           -7|       7|     36|           0|          6|        69|\n",
      "|   18|2005|                   127|    54|          38|           -5|       9|     19|           2|          3|        57|\n",
      "|   19|2004|                    87|    31|          27|          -13|      63|     12|           1|          3|        46|\n",
      "|   20|2002|                    74|    65|          62|           -7|      10|     56|          57|         18|        74|\n",
      "+-----+----+----------------------+------+------------+-------------+--------+-------+------------+-----------+----------+\n",
      "only showing top 20 rows\n",
      "\n"
     ]
    }
   ],
   "source": [
    "sdf.describe().toPandas()  # # par défaut ttes les col \n",
    "sdf.dtypes\n",
    "col_num = sdf.select([col[0] for col in sdf.dtypes if col[1] != 'string'])\n",
    "col_num.show()"
   ]
  },
  {
   "cell_type": "code",
   "execution_count": 57,
   "metadata": {},
   "outputs": [
    {
     "name": "stdout",
     "output_type": "stream",
     "text": [
      "+--------------------+-----------------+--------------------+-----------------+\n",
      "|               Title|           Artist|           Top Genre|Length (Duration)|\n",
      "+--------------------+-----------------+--------------------+-----------------+\n",
      "|             Sunrise|      Norah Jones|     adult standards|              201|\n",
      "|         Black Night|      Deep Purple|          album rock|              207|\n",
      "|      Clint Eastwood|         Gorillaz| alternative hip hop|              341|\n",
      "|       The Pretender|     Foo Fighters|   alternative metal|              269|\n",
      "|Waitin' On A Sunn...|Bruce Springsteen|        classic rock|              256|\n",
      "|The Road Ahead (M...|     City To City|alternative pop rock|              247|\n",
      "|   She Will Be Loved|         Maroon 5|                 pop|              257|\n",
      "|  Knights of Cydonia|             Muse|         modern rock|              366|\n",
      "|      Mr. Brightside|      The Killers|         modern rock|              223|\n",
      "|          Without Me|           Eminem|     detroit hip hop|              290|\n",
      "|      Love Me Tender|    Elvis Presley|     adult standards|              162|\n",
      "|   Seven Nation Army|The White Stripes|    alternative rock|              232|\n",
      "|       Als Het Golft|          De Dijk|         dutch indie|              214|\n",
      "|      I'm going home|  Ten Years After|          album rock|              639|\n",
      "|Fluorescent Adole...|   Arctic Monkeys|         garage rock|              173|\n",
      "|          Zonder Jou|    Paul de Leeuw|       dutch cabaret|              236|\n",
      "|      Speed of Sound|         Coldplay|      permanent wave|              288|\n",
      "|           Uninvited|Alanis Morissette|    alternative rock|              276|\n",
      "|               Music|       John Miles|      classic uk pop|              352|\n",
      "|      Cry Me a River|Justin Timberlake|           dance pop|              288|\n",
      "+--------------------+-----------------+--------------------+-----------------+\n",
      "only showing top 20 rows\n",
      "\n"
     ]
    }
   ],
   "source": [
    "sdf.describe().toPandas()  # # par défaut ttes les col \n",
    "sdf.dtypes\n",
    "col_cat = sdf.select([col[0] for col in sdf.dtypes if col[1] == 'string'])\n",
    "col_cat.show()"
   ]
  },
  {
   "cell_type": "code",
   "execution_count": null,
   "metadata": {},
   "outputs": [],
   "source": []
  },
  {
   "cell_type": "code",
   "execution_count": null,
   "metadata": {},
   "outputs": [],
   "source": []
  },
  {
   "cell_type": "code",
   "execution_count": null,
   "metadata": {},
   "outputs": [],
   "source": []
  },
  {
   "cell_type": "code",
   "execution_count": null,
   "metadata": {},
   "outputs": [],
   "source": []
  },
  {
   "cell_type": "markdown",
   "metadata": {},
   "source": [
    "## OneHotEncoder"
   ]
  },
  {
   "cell_type": "code",
   "execution_count": 42,
   "metadata": {},
   "outputs": [
    {
     "ename": "NameError",
     "evalue": "name 'feature_cat' is not defined",
     "output_type": "error",
     "traceback": [
      "\u001b[0;31m\u001b[0m",
      "\u001b[0;31mNameError\u001b[0mTraceback (most recent call last)",
      "Cell \u001b[0;32mIn [42], line 1\u001b[0m\n\u001b[0;32m----> 1\u001b[0m indexer_feature \u001b[38;5;241m=\u001b[39m StringIndexer(inputCols\u001b[38;5;241m=\u001b[39mfeature_cat, handleInvalid\u001b[38;5;241m=\u001b[39m\u001b[38;5;124m'\u001b[39m\u001b[38;5;124mskip\u001b[39m\u001b[38;5;124m'\u001b[39m, outputCols\u001b[38;5;241m=\u001b[39mfeature_cat_indexed)\n\u001b[1;32m      2\u001b[0m indexer_label \u001b[38;5;241m=\u001b[39m StringIndexer(inputCol\u001b[38;5;241m=\u001b[39mlabelCol, handleInvalid\u001b[38;5;241m=\u001b[39m\u001b[38;5;124m'\u001b[39m\u001b[38;5;124mskip\u001b[39m\u001b[38;5;124m'\u001b[39m, outputCol\u001b[38;5;241m=\u001b[39mlabelCol\u001b[38;5;241m+\u001b[39m\u001b[38;5;124m'\u001b[39m\u001b[38;5;124m_indexed\u001b[39m\u001b[38;5;124m'\u001b[39m)\n",
      "\u001b[0;31mNameError\u001b[0m: name 'feature_cat' is not defined"
     ]
    }
   ],
   "source": [
    "indexer_feature = StringIndexer(inputCols=feature_cat, handleInvalid='skip', outputCols=feature_cat_indexed)\n",
    "indexer_label = StringIndexer(inputCol=labelCol, handleInvalid='skip', outputCol=labelCol+'_indexed')"
   ]
  },
  {
   "cell_type": "code",
   "execution_count": 39,
   "metadata": {},
   "outputs": [
    {
     "ename": "NameError",
     "evalue": "name 'feature_cat_indexed' is not defined",
     "output_type": "error",
     "traceback": [
      "\u001b[0;31m\u001b[0m",
      "\u001b[0;31mNameError\u001b[0mTraceback (most recent call last)",
      "Cell \u001b[0;32mIn [39], line 1\u001b[0m\n\u001b[0;32m----> 1\u001b[0m encoders \u001b[38;5;241m=\u001b[39m OneHotEncoder(dropLast\u001b[38;5;241m=\u001b[39m\u001b[38;5;28;01mFalse\u001b[39;00m, inputCols\u001b[38;5;241m=\u001b[39mfeature_cat_indexed, outputCols\u001b[38;5;241m=\u001b[39mfeature_cat_encoded)  \u001b[38;5;66;03m# handleInvalid='skip',  \u001b[39;00m\n\u001b[1;32m      2\u001b[0m \u001b[38;5;66;03m# sdf = encoders.fit(sdf).transform(sdf)\u001b[39;00m\n\u001b[1;32m      3\u001b[0m sdf\u001b[38;5;241m.\u001b[39mselect(feature_cat_indexed\u001b[38;5;241m+\u001b[39mfeature_cat_encoded)\u001b[38;5;241m.\u001b[39mshow(n\u001b[38;5;241m=\u001b[39m\u001b[38;5;241m2\u001b[39m, truncate\u001b[38;5;241m=\u001b[39m\u001b[38;5;28;01mFalse\u001b[39;00m, vertical\u001b[38;5;241m=\u001b[39m\u001b[38;5;28;01mTrue\u001b[39;00m)\n",
      "\u001b[0;31mNameError\u001b[0m: name 'feature_cat_indexed' is not defined"
     ]
    }
   ],
   "source": [
    "encoders = OneHotEncoder(dropLast=False, inputCols=feature_cat_indexed, outputCols=feature_cat_encoded)  # handleInvalid='skip',  \n",
    "# sdf = encoders.fit(sdf).transform(sdf)\n",
    "sdf.select(feature_cat_indexed+feature_cat_encoded).show(n=2, truncate=False, vertical=True)"
   ]
  },
  {
   "cell_type": "code",
   "execution_count": 35,
   "metadata": {},
   "outputs": [
    {
     "ename": "AttributeError",
     "evalue": "'DataFrame' object has no attribute '_get_numeric_data'",
     "output_type": "error",
     "traceback": [
      "\u001b[0;31m\u001b[0m",
      "\u001b[0;31mAttributeError\u001b[0mTraceback (most recent call last)",
      "Cell \u001b[0;32mIn [35], line 1\u001b[0m\n\u001b[0;32m----> 1\u001b[0m pd\u001b[38;5;241m.\u001b[39mplotting\u001b[38;5;241m.\u001b[39mscatter_matrix(df)\n",
      "File \u001b[0;32m/opt/conda/lib/python3.10/site-packages/pandas/plotting/_misc.py:160\u001b[0m, in \u001b[0;36mscatter_matrix\u001b[0;34m(frame, alpha, figsize, ax, grid, diagonal, marker, density_kwds, hist_kwds, range_padding, **kwargs)\u001b[0m\n\u001b[1;32m    101\u001b[0m \u001b[38;5;124;03m\"\"\"\u001b[39;00m\n\u001b[1;32m    102\u001b[0m \u001b[38;5;124;03mDraw a matrix of scatter plots.\u001b[39;00m\n\u001b[1;32m    103\u001b[0m \n\u001b[0;32m   (...)\u001b[0m\n\u001b[1;32m    157\u001b[0m \u001b[38;5;124;03m        <AxesSubplot: xlabel='D', ylabel='D'>]], dtype=object)\u001b[39;00m\n\u001b[1;32m    158\u001b[0m \u001b[38;5;124;03m\"\"\"\u001b[39;00m\n\u001b[1;32m    159\u001b[0m plot_backend \u001b[38;5;241m=\u001b[39m _get_plot_backend(\u001b[38;5;124m\"\u001b[39m\u001b[38;5;124mmatplotlib\u001b[39m\u001b[38;5;124m\"\u001b[39m)\n\u001b[0;32m--> 160\u001b[0m \u001b[38;5;28;01mreturn\u001b[39;00m \u001b[43mplot_backend\u001b[49m\u001b[38;5;241;43m.\u001b[39;49m\u001b[43mscatter_matrix\u001b[49m\u001b[43m(\u001b[49m\n\u001b[1;32m    161\u001b[0m \u001b[43m    \u001b[49m\u001b[43mframe\u001b[49m\u001b[38;5;241;43m=\u001b[39;49m\u001b[43mframe\u001b[49m\u001b[43m,\u001b[49m\n\u001b[1;32m    162\u001b[0m \u001b[43m    \u001b[49m\u001b[43malpha\u001b[49m\u001b[38;5;241;43m=\u001b[39;49m\u001b[43malpha\u001b[49m\u001b[43m,\u001b[49m\n\u001b[1;32m    163\u001b[0m \u001b[43m    \u001b[49m\u001b[43mfigsize\u001b[49m\u001b[38;5;241;43m=\u001b[39;49m\u001b[43mfigsize\u001b[49m\u001b[43m,\u001b[49m\n\u001b[1;32m    164\u001b[0m \u001b[43m    \u001b[49m\u001b[43max\u001b[49m\u001b[38;5;241;43m=\u001b[39;49m\u001b[43max\u001b[49m\u001b[43m,\u001b[49m\n\u001b[1;32m    165\u001b[0m \u001b[43m    \u001b[49m\u001b[43mgrid\u001b[49m\u001b[38;5;241;43m=\u001b[39;49m\u001b[43mgrid\u001b[49m\u001b[43m,\u001b[49m\n\u001b[1;32m    166\u001b[0m \u001b[43m    \u001b[49m\u001b[43mdiagonal\u001b[49m\u001b[38;5;241;43m=\u001b[39;49m\u001b[43mdiagonal\u001b[49m\u001b[43m,\u001b[49m\n\u001b[1;32m    167\u001b[0m \u001b[43m    \u001b[49m\u001b[43mmarker\u001b[49m\u001b[38;5;241;43m=\u001b[39;49m\u001b[43mmarker\u001b[49m\u001b[43m,\u001b[49m\n\u001b[1;32m    168\u001b[0m \u001b[43m    \u001b[49m\u001b[43mdensity_kwds\u001b[49m\u001b[38;5;241;43m=\u001b[39;49m\u001b[43mdensity_kwds\u001b[49m\u001b[43m,\u001b[49m\n\u001b[1;32m    169\u001b[0m \u001b[43m    \u001b[49m\u001b[43mhist_kwds\u001b[49m\u001b[38;5;241;43m=\u001b[39;49m\u001b[43mhist_kwds\u001b[49m\u001b[43m,\u001b[49m\n\u001b[1;32m    170\u001b[0m \u001b[43m    \u001b[49m\u001b[43mrange_padding\u001b[49m\u001b[38;5;241;43m=\u001b[39;49m\u001b[43mrange_padding\u001b[49m\u001b[43m,\u001b[49m\n\u001b[1;32m    171\u001b[0m \u001b[43m    \u001b[49m\u001b[38;5;241;43m*\u001b[39;49m\u001b[38;5;241;43m*\u001b[39;49m\u001b[43mkwargs\u001b[49m\u001b[43m,\u001b[49m\n\u001b[1;32m    172\u001b[0m \u001b[43m\u001b[49m\u001b[43m)\u001b[49m\n",
      "File \u001b[0;32m/opt/conda/lib/python3.10/site-packages/pandas/plotting/_matplotlib/misc.py:48\u001b[0m, in \u001b[0;36mscatter_matrix\u001b[0;34m(frame, alpha, figsize, ax, grid, diagonal, marker, density_kwds, hist_kwds, range_padding, **kwds)\u001b[0m\n\u001b[1;32m     35\u001b[0m \u001b[38;5;28;01mdef\u001b[39;00m \u001b[38;5;21mscatter_matrix\u001b[39m(\n\u001b[1;32m     36\u001b[0m     frame: DataFrame,\n\u001b[1;32m     37\u001b[0m     alpha: \u001b[38;5;28mfloat\u001b[39m \u001b[38;5;241m=\u001b[39m \u001b[38;5;241m0.5\u001b[39m,\n\u001b[0;32m   (...)\u001b[0m\n\u001b[1;32m     46\u001b[0m     \u001b[38;5;241m*\u001b[39m\u001b[38;5;241m*\u001b[39mkwds,\n\u001b[1;32m     47\u001b[0m ):\n\u001b[0;32m---> 48\u001b[0m     df \u001b[38;5;241m=\u001b[39m \u001b[43mframe\u001b[49m\u001b[38;5;241;43m.\u001b[39;49m\u001b[43m_get_numeric_data\u001b[49m()\n\u001b[1;32m     49\u001b[0m     n \u001b[38;5;241m=\u001b[39m df\u001b[38;5;241m.\u001b[39mcolumns\u001b[38;5;241m.\u001b[39msize\n\u001b[1;32m     50\u001b[0m     naxes \u001b[38;5;241m=\u001b[39m n \u001b[38;5;241m*\u001b[39m n\n",
      "File \u001b[0;32m/usr/local/spark/python/pyspark/sql/dataframe.py:1988\u001b[0m, in \u001b[0;36mDataFrame.__getattr__\u001b[0;34m(self, name)\u001b[0m\n\u001b[1;32m   1978\u001b[0m \u001b[38;5;124;03m\"\"\"Returns the :class:`Column` denoted by ``name``.\u001b[39;00m\n\u001b[1;32m   1979\u001b[0m \n\u001b[1;32m   1980\u001b[0m \u001b[38;5;124;03m.. versionadded:: 1.3.0\u001b[39;00m\n\u001b[0;32m   (...)\u001b[0m\n\u001b[1;32m   1985\u001b[0m \u001b[38;5;124;03m[Row(age=2), Row(age=5)]\u001b[39;00m\n\u001b[1;32m   1986\u001b[0m \u001b[38;5;124;03m\"\"\"\u001b[39;00m\n\u001b[1;32m   1987\u001b[0m \u001b[38;5;28;01mif\u001b[39;00m name \u001b[38;5;129;01mnot\u001b[39;00m \u001b[38;5;129;01min\u001b[39;00m \u001b[38;5;28mself\u001b[39m\u001b[38;5;241m.\u001b[39mcolumns:\n\u001b[0;32m-> 1988\u001b[0m     \u001b[38;5;28;01mraise\u001b[39;00m \u001b[38;5;167;01mAttributeError\u001b[39;00m(\n\u001b[1;32m   1989\u001b[0m         \u001b[38;5;124m\"\u001b[39m\u001b[38;5;124m'\u001b[39m\u001b[38;5;132;01m%s\u001b[39;00m\u001b[38;5;124m'\u001b[39m\u001b[38;5;124m object has no attribute \u001b[39m\u001b[38;5;124m'\u001b[39m\u001b[38;5;132;01m%s\u001b[39;00m\u001b[38;5;124m'\u001b[39m\u001b[38;5;124m\"\u001b[39m \u001b[38;5;241m%\u001b[39m (\u001b[38;5;28mself\u001b[39m\u001b[38;5;241m.\u001b[39m\u001b[38;5;18m__class__\u001b[39m\u001b[38;5;241m.\u001b[39m\u001b[38;5;18m__name__\u001b[39m, name)\n\u001b[1;32m   1990\u001b[0m     )\n\u001b[1;32m   1991\u001b[0m jc \u001b[38;5;241m=\u001b[39m \u001b[38;5;28mself\u001b[39m\u001b[38;5;241m.\u001b[39m_jdf\u001b[38;5;241m.\u001b[39mapply(name)\n\u001b[1;32m   1992\u001b[0m \u001b[38;5;28;01mreturn\u001b[39;00m Column(jc)\n",
      "\u001b[0;31mAttributeError\u001b[0m: 'DataFrame' object has no attribute '_get_numeric_data'"
     ]
    }
   ],
   "source": [
    "pd.plotting.scatter_matrix(df)"
   ]
  },
  {
   "cell_type": "code",
   "execution_count": null,
   "metadata": {},
   "outputs": [],
   "source": []
  }
 ],
 "metadata": {
  "kernelspec": {
   "display_name": "Python 3 (ipykernel)",
   "language": "python",
   "name": "python3"
  },
  "language_info": {
   "codemirror_mode": {
    "name": "ipython",
    "version": 3
   },
   "file_extension": ".py",
   "mimetype": "text/x-python",
   "name": "python",
   "nbconvert_exporter": "python",
   "pygments_lexer": "ipython3",
   "version": "3.10.6"
  },
  "vscode": {
   "interpreter": {
    "hash": "d85d720030dee5f2349c4ab3ce3114f782afc822af1d2427964e8e6b37494d7a"
   }
  }
 },
 "nbformat": 4,
 "nbformat_minor": 4
}
